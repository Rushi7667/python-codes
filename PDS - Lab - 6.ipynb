{
 "cells": [
  {
   "cell_type": "markdown",
   "metadata": {
    "id": "5IxH57pmG-GY"
   },
   "source": [
    "\n",
    "___\n",
    "\n",
    "<a href='https://www.darshan.ac.in/'> <img src='https://gtu.darshan.ac.in/Upload/Logo/DIET_Logo.svg' /></a>\n",
    "___\n",
    "<pre>\n",
    "<center><b>Python for Data Science - 3150713</b></center>\n",
    "<center><b>Lab - 6</b></center>    \n",
    "<pre>"
   ]
  },
  {
   "cell_type": "markdown",
   "metadata": {
    "id": "_FHUM-CHG-Gd"
   },
   "source": [
    "# 1.\tWAP to read entire file named abc.txt\n",
    "\n"
   ]
  },
  {
   "cell_type": "code",
   "execution_count": 5,
   "metadata": {
    "id": "ybLtCnveG-Ge",
    "outputId": "092082a0-6010-4ee1-fd15-376801468c73"
   },
   "outputs": [
    {
     "name": "stdout",
     "output_type": "stream",
     "text": [
      "hello world\n"
     ]
    }
   ],
   "source": [
    "f = open('abc.txt')\n",
    "data = f.read()\n",
    "print(data)"
   ]
  },
  {
   "cell_type": "markdown",
   "metadata": {},
   "source": [
    "# 2.\tWAP to read first 5 lines from the file named abc.txt"
   ]
  },
  {
   "cell_type": "code",
   "execution_count": 31,
   "metadata": {},
   "outputs": [
    {
     "name": "stdout",
     "output_type": "stream",
     "text": [
      "hello world\n",
      "\n",
      "Darshan\n",
      "\n",
      "University\n",
      "\n",
      "Jayesh sir\n",
      "\n",
      "Bala sir\n"
     ]
    }
   ],
   "source": [
    "f = open('abc.txt')\n",
    "data = f.readlines()\n",
    "c=0\n",
    "for l in (data):\n",
    "    c+=1\n",
    "    if c<=5:\n",
    "        print(l)\n",
    "    else:\n",
    "        break\n",
    "f.close()"
   ]
  },
  {
   "cell_type": "markdown",
   "metadata": {},
   "source": [
    "# 3.\tWAP to read file line by line and store lines as a List.\n"
   ]
  },
  {
   "cell_type": "code",
   "execution_count": 30,
   "metadata": {},
   "outputs": [
    {
     "name": "stdout",
     "output_type": "stream",
     "text": [
      "['hello world\\n', 'Darshan\\n', 'University\\n', 'Jayesh sir\\n', 'Bala sir']\n"
     ]
    }
   ],
   "source": [
    "f = open('abc.txt')\n",
    "data = f.readlines()\n",
    "a=[]\n",
    "for i in (data):\n",
    "    a.append(i)\n",
    "print(a)\n",
    "f.close()"
   ]
  },
  {
   "cell_type": "markdown",
   "metadata": {},
   "source": [
    "# 4.\tWAP to find the longest word in a file named abc.txt"
   ]
  },
  {
   "cell_type": "code",
   "execution_count": 23,
   "metadata": {},
   "outputs": [
    {
     "name": "stdout",
     "output_type": "stream",
     "text": [
      "University\n"
     ]
    }
   ],
   "source": [
    "f = open('abc.txt')\n",
    "data = f.readlines()\n",
    "longest=''\n",
    "maxlen=0\n",
    "for l in (data):\n",
    "    words = l.split()\n",
    "    for word in words:\n",
    "        if len(word)>maxlen:\n",
    "            maxlen=len(word)\n",
    "            longest=word\n",
    "print(longest)"
   ]
  },
  {
   "attachments": {},
   "cell_type": "markdown",
   "metadata": {},
   "source": [
    "# 5.\tWAP to count lines, word, and characters within a text file."
   ]
  },
  {
   "cell_type": "code",
   "execution_count": 21,
   "metadata": {},
   "outputs": [
    {
     "name": "stdout",
     "output_type": "stream",
     "text": [
      "Total lines =  5 \n",
      "Total words =  8 \n",
      "Total charactors =  47\n"
     ]
    }
   ],
   "source": [
    "f = open('abc.txt')\n",
    "data = f.readlines()\n",
    "lines=0\n",
    "word=0\n",
    "charactor=0\n",
    "for d in data:\n",
    "    lines+=1\n",
    "    words=d.split(' ')\n",
    "    for w in words:\n",
    "        word+=1\n",
    "        charactor+=len(w)\n",
    "print(\"Total lines = \",lines, \"\\nTotal words = \", word, \"\\nTotal charactors = \", charactor)"
   ]
  },
  {
   "attachments": {},
   "cell_type": "markdown",
   "metadata": {},
   "source": [
    "# 6.\tWrite an application that reads a file and counts the number of occurrences of word."
   ]
  },
  {
   "cell_type": "code",
   "execution_count": 32,
   "metadata": {},
   "outputs": [
    {
     "name": "stdout",
     "output_type": "stream",
     "text": [
      "hello = 1\n",
      "world\n",
      " = 1\n",
      "Darshan\n",
      " = 1\n",
      "University\n",
      " = 1\n",
      "Jayesh = 1\n",
      "sir\n",
      " = 1\n",
      "Bala = 1\n",
      "sir = 1\n"
     ]
    }
   ],
   "source": [
    "f = open(\"abc.txt\")\n",
    "data = f.readlines()\n",
    "\n",
    "for l in data:\n",
    "    words = l.split(\" \")\n",
    "    for word in words:\n",
    "        count = 0\n",
    "        temp = word\n",
    "        for word in words:\n",
    "            if temp == word:\n",
    "                count+=1\n",
    "                print(temp,'=',count)\n",
    "                break"
   ]
  },
  {
   "cell_type": "markdown",
   "metadata": {},
   "source": [
    "# 7.\tWAP to copy content of abc.txt to xyz.txt"
   ]
  },
  {
   "cell_type": "code",
   "execution_count": 25,
   "metadata": {},
   "outputs": [],
   "source": [
    "f = open('abc.txt')\n",
    "w  = open('xyz.txt','w')\n",
    "\n",
    "for line in f:\n",
    "    w.write(line)"
   ]
  },
  {
   "cell_type": "markdown",
   "metadata": {},
   "source": [
    "# 8.\tWAP to append next 50 prime numbers to a file named primenumbers.txt)"
   ]
  },
  {
   "cell_type": "code",
   "execution_count": null,
   "metadata": {},
   "outputs": [],
   "source": []
  }
 ],
 "metadata": {
  "colab": {
   "name": "Python (Lab - 03) (List) - Payal Parmar.ipynb",
   "provenance": []
  },
  "kernelspec": {
   "display_name": "Python 3.9.7 64-bit",
   "language": "python",
   "name": "python3"
  },
  "language_info": {
   "codemirror_mode": {
    "name": "ipython",
    "version": 3
   },
   "file_extension": ".py",
   "mimetype": "text/x-python",
   "name": "python",
   "nbconvert_exporter": "python",
   "pygments_lexer": "ipython3",
   "version": "3.9.7"
  },
  "vscode": {
   "interpreter": {
    "hash": "244588f31c2a3ad07c22725603babad300eb2184cbcfe75a54eeec84a711f05a"
   }
  }
 },
 "nbformat": 4,
 "nbformat_minor": 1
}
