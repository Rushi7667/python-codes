{
 "cells": [
  {
   "cell_type": "markdown",
   "metadata": {
    "id": "5IxH57pmG-GY"
   },
   "source": [
    "\n",
    "___\n",
    "\n",
    "<a href='https://www.darshan.ac.in/'> <img src='https://gtu.darshan.ac.in/Upload/Logo/DIET_Logo.svg' /></a>\n",
    "___\n",
    "<pre>\n",
    "<center><b>Python for Data Science - 3150713</b></center>\n",
    "<center><b>Lab - 4</b></center>    \n",
    "<pre>"
   ]
  },
  {
   "cell_type": "markdown",
   "metadata": {
    "id": "_FHUM-CHG-Gd"
   },
   "source": [
    "# 01) WAP to find sum of all the elements in List."
   ]
  },
  {
   "cell_type": "code",
   "execution_count": 5,
   "metadata": {
    "id": "ybLtCnveG-Ge",
    "outputId": "092082a0-6010-4ee1-fd15-376801468c73"
   },
   "outputs": [
    {
     "name": "stdout",
     "output_type": "stream",
     "text": [
      "15\n"
     ]
    }
   ],
   "source": [
    "b = [1,2,3,4,5]\n",
    "\n",
    "def sum_of_list_elements(a):\n",
    "    sum = 0\n",
    "    for i in range(0,len(a)):\n",
    "        sum = sum + a[i]\n",
    "    return sum\n",
    "\n",
    "print(sum_of_list_elements(b))"
   ]
  },
  {
   "cell_type": "markdown",
   "metadata": {
    "id": "6-sXb9PSG-Gh"
   },
   "source": [
    "# 02) WAP to find largest element in a List."
   ]
  },
  {
   "cell_type": "code",
   "execution_count": 11,
   "metadata": {
    "id": "oTUGWtFZG-Gi",
    "outputId": "bbba26cc-04aa-40ad-c902-f976ee34d20a"
   },
   "outputs": [
    {
     "name": "stdout",
     "output_type": "stream",
     "text": [
      "7\n"
     ]
    }
   ],
   "source": [
    "a = [4,3,1,5,2,7]\n",
    "large = a[0]\n",
    "for i in range(0,len(a)):\n",
    "    if a[i]>large:\n",
    "        large=a[i]\n",
    "print(large)"
   ]
  },
  {
   "cell_type": "markdown",
   "metadata": {
    "id": "1J0WHwUNG-Gj"
   },
   "source": [
    "# 03) WAP to split the List into two and append the first part to the end."
   ]
  },
  {
   "cell_type": "code",
   "execution_count": 13,
   "metadata": {
    "id": "hXcf57rdG-Gk",
    "outputId": "fec29838-ef07-4033-92ad-49786f3c7efb"
   },
   "outputs": [
    {
     "name": "stdout",
     "output_type": "stream",
     "text": [
      "[0, 1, 2, 3, 4]\n"
     ]
    }
   ],
   "source": [
    "a = [0,1,2,3,4,5,6,7,8,9]\n",
    "middle = len(a)//2\n",
    "\n",
    "first = a[:middle]\n",
    "last = a[middle:]\n",
    "\n",
    "# final = last.append(first)\n",
    "print(first)"
   ]
  },
  {
   "cell_type": "markdown",
   "metadata": {
    "id": "q9WGqT_bG-Gl"
   },
   "source": [
    "# 04) WAP to interchange first and last element in list entered by a user."
   ]
  },
  {
   "cell_type": "code",
   "execution_count": 14,
   "metadata": {
    "id": "dPvM9W0dG-Gm",
    "outputId": "41637451-4895-4166-864e-0792ba7a356d"
   },
   "outputs": [
    {
     "name": "stdout",
     "output_type": "stream",
     "text": [
      "[24, 35, 9, 56, 12]\n"
     ]
    }
   ],
   "source": [
    "def swapList(newList):\n",
    "    size = len(newList)\n",
    "     \n",
    "    # Swapping\n",
    "    temp = newList[0]\n",
    "    newList[0] = newList[size - 1]\n",
    "    newList[size - 1] = temp\n",
    "     \n",
    "    return newList\n",
    "     \n",
    "# Driver code\n",
    "newList = [12, 35, 9, 56, 24]\n",
    " \n",
    "print(swapList(newList))"
   ]
  },
  {
   "cell_type": "markdown",
   "metadata": {
    "id": "vfr11EOSG-Gn"
   },
   "source": [
    "# 05) WAP to interchange the elements on two positions entered by a user."
   ]
  },
  {
   "cell_type": "code",
   "execution_count": 6,
   "metadata": {
    "id": "9AXXFjmXG-Go",
    "outputId": "2c0f53db-7071-41d3-bc03-af215bae7e21"
   },
   "outputs": [
    {
     "data": {
      "text/plain": [
       "[6, 6, 3, 8, 2]"
      ]
     },
     "execution_count": 6,
     "metadata": {},
     "output_type": "execute_result"
    }
   ],
   "source": [
    "a = [2,6,3,8,6]\n",
    "\n",
    "x1 = int(input(\"Enter the number : \"))\n",
    "x2 = int(input(\"Enter the number : \"))\n",
    "\n",
    "def swapnum(list,n1,n2):\n",
    "    list[n1],list[n2] = list[n2],list[n1]\n",
    "    return list\n",
    "swapnum(a,x1,x2)"
   ]
  },
  {
   "cell_type": "markdown",
   "metadata": {
    "id": "VABvkcqXG-Gp"
   },
   "source": [
    "# 06) WAP to remove Nth occurrence of the given word in the list entered by user."
   ]
  },
  {
   "cell_type": "code",
   "execution_count": 8,
   "metadata": {
    "id": "e5YWmQ8RG-Gq",
    "outputId": "4d43d37c-a263-49c0-d713-eabe7029aceb"
   },
   "outputs": [
    {
     "data": {
      "text/plain": [
       "['Darshan', 'of Technology']"
      ]
     },
     "execution_count": 8,
     "metadata": {},
     "output_type": "execute_result"
    }
   ],
   "source": [
    "arr = ['Darshan', 'Institute', 'of Technology']\n",
    "n=1\n",
    "for i in range(len(arr)):\n",
    "    if i==n:\n",
    "        arr.remove(arr[i])\n",
    "arr"
   ]
  },
  {
   "cell_type": "markdown",
   "metadata": {
    "id": "Y7RN-OcVG-Gr"
   },
   "source": [
    "# 07) WAP to check whether given element exits in list or not."
   ]
  },
  {
   "cell_type": "code",
   "execution_count": 22,
   "metadata": {
    "id": "hxzXNra_G-Gs",
    "outputId": "f17bd96d-32af-4d8f-bf58-fadadcab1110"
   },
   "outputs": [
    {
     "name": "stdout",
     "output_type": "stream",
     "text": [
      "Darshan\n",
      "Element is present in list\n"
     ]
    }
   ],
   "source": [
    "arr = ['Darshan', 'Institute', 'of Technology']\n",
    "word = str(input())\n",
    "flag=0\n",
    "for i in range(len(arr)):\n",
    "    if arr[i]==word:\n",
    "        flag=1\n",
    "        break\n",
    "print(word)\n",
    "if flag==1:\n",
    "    print(\"Element is present in list\")\n",
    "else:\n",
    "    print(\"Element is not present\")"
   ]
  },
  {
   "cell_type": "markdown",
   "metadata": {
    "id": "ykN1fAPrG-Gt"
   },
   "source": [
    "# 08) WAP to reverser the list entered by user."
   ]
  },
  {
   "cell_type": "code",
   "execution_count": 32,
   "metadata": {
    "id": "GRPbL1LWG-Gu",
    "outputId": "370fee2d-7e89-441a-99ab-19f37e4414e7"
   },
   "outputs": [
    {
     "name": "stdout",
     "output_type": "stream",
     "text": [
      "['University', 'Darshan']\n"
     ]
    }
   ],
   "source": [
    "a = [\"Darshan\", \"University\"]\n",
    "a.reverse()\n",
    "print(a)"
   ]
  },
  {
   "cell_type": "markdown",
   "metadata": {
    "id": "3QDjgOCTG-Gw"
   },
   "source": [
    "# 09) WAP to print all positive number in list entered by user."
   ]
  },
  {
   "cell_type": "code",
   "execution_count": 33,
   "metadata": {
    "id": "g06Bs0oEG-Gw",
    "outputId": "a9d8bdd0-7035-4155-acae-7e275c71a36b"
   },
   "outputs": [
    {
     "name": "stdout",
     "output_type": "stream",
     "text": [
      "4\n",
      "5\n",
      "9\n"
     ]
    }
   ],
   "source": [
    "a = [-1,4,5,-3,9,-7]\n",
    "for i in range(len(a)):\n",
    "    if a[i]>0:\n",
    "        print(a[i])"
   ]
  },
  {
   "cell_type": "markdown",
   "metadata": {
    "id": "C0DzX7IYG-Gx"
   },
   "source": [
    "# 10) WAP to check if given array is monotonic or not."
   ]
  },
  {
   "cell_type": "code",
   "execution_count": 52,
   "metadata": {
    "id": "2UHVeuNTG-Gy"
   },
   "outputs": [
    {
     "name": "stdout",
     "output_type": "stream",
     "text": [
      "[4, 4, 5, 6]\n",
      "[6, 5, 4, 4]\n",
      "True\n",
      "[3, 4, 5, 6]\n",
      "[6, 5, 4, 3]\n",
      "False\n"
     ]
    }
   ],
   "source": [
    "# Check if given array is Monotonic\n",
    "def isMonotonic(A):\n",
    "    x, y = [], []\n",
    "    x.extend(A)\n",
    "    y.extend(A)\n",
    "    x.sort()\n",
    "    y.sort(reverse=True)\n",
    "    print(x)\n",
    "    print(y)\n",
    "    if(x == A or y == A):\n",
    "        return True\n",
    "    return False\n",
    " \n",
    " \n",
    "# Driver program\n",
    "A = [6, 5, 4, 4]\n",
    "B = [6, 5, 3, 4]\n",
    " \n",
    "# Print required result\n",
    "print(isMonotonic(A))\n",
    "print(isMonotonic(B))"
   ]
  },
  {
   "cell_type": "markdown",
   "metadata": {
    "id": "TXeCXfFZG-Gz"
   },
   "source": [
    "# 11) WAP which takes 2 digits, X,Y as input and generates a 2-dimensional array of size X * Y. The element value in the i-th row and j-th column of the array should be i*j. Note: i=0,1.., X-1; j=0,1,¡­Y-1."
   ]
  },
  {
   "cell_type": "code",
   "execution_count": 72,
   "metadata": {
    "id": "iA10lUgVG-G0"
   },
   "outputs": [
    {
     "data": {
      "text/plain": [
       "[[0, 0, 0, 0, 0],\n",
       " [0, 1, 2, 3, 4],\n",
       " [0, 2, 4, 6, 8],\n",
       " [0, 3, 6, 9, 12],\n",
       " [0, 4, 8, 12, 16]]"
      ]
     },
     "execution_count": 72,
     "metadata": {},
     "output_type": "execute_result"
    }
   ],
   "source": [
    "i, j = map(int, input().split()) \n",
    "Matrix = [[0 for x in range(i)] for y in range(j)]\n",
    "\n",
    "for a in range(i):\n",
    "    for b in range(j):\n",
    "        Matrix[a][b] = a*b \n",
    "Matrix"
   ]
  },
  {
   "cell_type": "markdown",
   "metadata": {
    "id": "nCHxeKKfG-G1"
   },
   "source": [
    "# 12) WAP to find median of array."
   ]
  },
  {
   "cell_type": "code",
   "execution_count": 5,
   "metadata": {
    "id": "vicmGyv5G-G2"
   },
   "outputs": [
    {
     "name": "stdout",
     "output_type": "stream",
     "text": [
      "[3, 2, 4, 2, 5]\n",
      "4\n"
     ]
    }
   ],
   "source": [
    "n = int(input(\"Enter size of array : \"))\n",
    "a=[]\n",
    "\n",
    "for i in range(0,n):\n",
    "    a.append(int(input()))\n",
    "print(a)\n",
    "if n%2!=0:\n",
    "    print(a[int(len(a)/2)])\n",
    "if n%2==0:\n",
    "    c = (a[int(len(a)/2)] + a[int(len(a)/2)-1])/2 \n",
    "    print(c)"
   ]
  },
  {
   "cell_type": "markdown",
   "metadata": {
    "id": "7M6h6L6pG-G3"
   },
   "source": [
    "# 13) Write a program that interchanges the odd and even elements of an array."
   ]
  },
  {
   "cell_type": "code",
   "execution_count": 40,
   "metadata": {
    "id": "nqLeumgaG-G3"
   },
   "outputs": [
    {
     "name": "stdout",
     "output_type": "stream",
     "text": [
      "2 4 1 3 2 0 3 5 9 "
     ]
    }
   ],
   "source": [
    "def replace(arr,  n):\n",
    "    for i in range(n):\n",
    "        for j in range(i + 1, n):\n",
    " \n",
    "            if (arr[i] >= 0 and\n",
    "                arr[j] >= 0 and\n",
    "                arr[i] % 2 == 0 and\n",
    "                arr[j] % 2 != 0):\n",
    " \n",
    "                tmp = arr[i]\n",
    "                arr[i] = arr[j]\n",
    "                arr[j] = tmp\n",
    "                \n",
    "                arr[j] = -arr[j]\n",
    " \n",
    "                break\n",
    " \n",
    "            # If current element is odd\n",
    "            # then swap it with even\n",
    "            elif (arr[i] >= 0 and\n",
    "                  arr[j] >= 0 and\n",
    "                  arr[i] % 2 != 0 and\n",
    "                  arr[j] % 2 == 0):\n",
    " \n",
    "                # Perform Swap\n",
    "                tmp = arr[i]\n",
    "                arr[i] = arr[j]\n",
    "                arr[j] = tmp\n",
    " \n",
    "                # Change the sign\n",
    "                arr[j] = -arr[j]\n",
    " \n",
    "                break\n",
    " \n",
    "    # Marked element positive\n",
    "    for i in range(n):\n",
    "        arr[i] = abs(arr[i])\n",
    " \n",
    "    # Print final array\n",
    "    for i in range(n):\n",
    "        print(arr[i], end = \" \")\n",
    " \n",
    "    # Given array arr[]\n",
    "arr = [1, 3, 2, 4, 5, 9, 3, 2, 0]\n",
    "n = len(arr)\n",
    " \n",
    "    # Function Call\n",
    "replace(arr, n)"
   ]
  },
  {
   "cell_type": "markdown",
   "metadata": {
    "id": "wcb7jun0G-G4"
   },
   "source": [
    "# 14) WAP to find given number in the list and print the position of number using sequential search."
   ]
  },
  {
   "cell_type": "code",
   "execution_count": 9,
   "metadata": {
    "id": "KMemq0TQG-G4"
   },
   "outputs": [
    {
     "name": "stdout",
     "output_type": "stream",
     "text": [
      "[3, 2, 4, 1, 5]\n",
      "2 is at 2 position\n"
     ]
    }
   ],
   "source": [
    "n = int(input(\"Enter size of array : \"))\n",
    "a=[]\n",
    "\n",
    "for i in range(0,n):\n",
    "    a.append(int(input()))\n",
    "print(a)\n",
    "\n",
    "find = int(input(\"Enter the element for find in array : \"))\n",
    "\n",
    "for i in range(0,n):\n",
    "    if a[i]==find:\n",
    "        print(find,\"is at\",i+1,\"position\")\n",
    "        break"
   ]
  },
  {
   "cell_type": "markdown",
   "metadata": {
    "id": "UcuL0Y0OG-G5"
   },
   "source": [
    "# 15) WAP to multiply two 3*3 matrix."
   ]
  },
  {
   "cell_type": "code",
   "execution_count": 12,
   "metadata": {
    "id": "cuTT48YYG-G5"
   },
   "outputs": [
    {
     "name": "stdout",
     "output_type": "stream",
     "text": [
      "18 24 30 \n",
      "45 60 75 \n",
      "18 24 30 \n"
     ]
    }
   ],
   "source": [
    "row=3\n",
    "col=3\n",
    "a=[]\n",
    "b=[]\n",
    "c=[]\n",
    "\n",
    "for i in range(row):\n",
    "    a.append([0]*col)\n",
    "    b.append([0]*col)\n",
    "    c.append([0]*col)\n",
    "\n",
    "for i in range(len(a)):\n",
    "    for j in range(len(a[0])):\n",
    "        a[i][j]=int(input())\n",
    "for i in range(len(b)):\n",
    "    for j in range(len(b[0])):\n",
    "        b[i][j]=int(input())\n",
    "\n",
    "for i in range (len(a)):\n",
    "    for j in range (len(b[0])):\n",
    "        for k in range (len(b)):\n",
    "            c[i][j] += a[i][k] * b[k][j]\n",
    "\n",
    "for i in range(len(c)):\n",
    "    for j in range(len(c[0])):\n",
    "        print(c[i][j], end=\" \")\n",
    "    print()"
   ]
  },
  {
   "cell_type": "markdown",
   "metadata": {
    "id": "rs7xIVBNG-G6"
   },
   "source": [
    "# 16) Write one line of Python code that returns list of even elements of the given list."
   ]
  },
  {
   "cell_type": "code",
   "execution_count": 15,
   "metadata": {
    "id": "RV1TlJwYG-G7"
   },
   "outputs": [
    {
     "name": "stdout",
     "output_type": "stream",
     "text": [
      "[56, 34, 12, 10, 2]\n"
     ]
    }
   ],
   "source": [
    "a=[56,34,1,3,12,10,89,7,9,2]\n",
    "\n",
    "def even(a):\n",
    "    return [i for i in a if i%2==0]\n",
    "print(even(a))"
   ]
  },
  {
   "cell_type": "markdown",
   "metadata": {
    "id": "KkRJWytRG-G9"
   },
   "source": [
    "# 17) WAP to find tuples which have all elements divisible by K from a list of tuples."
   ]
  },
  {
   "cell_type": "code",
   "execution_count": 30,
   "metadata": {
    "id": "zxa_T61kG-G_"
   },
   "outputs": [
    {
     "name": "stdout",
     "output_type": "stream",
     "text": [
      "[(2, 4, 6), (36, 6, 24)]\n"
     ]
    }
   ],
   "source": [
    "a=[(2,4,6),(36,6,24),(56,49,21),(4,5,6)]\n",
    "k=int(input(\"Enter k \"))\n",
    "\n",
    "res = [sub for sub in a if all(element % k ==0 for element in sub)]\n",
    "print(res)"
   ]
  },
  {
   "cell_type": "markdown",
   "metadata": {
    "id": "w9-ZoaSPG-HA"
   },
   "source": [
    "# 18) WAP to covert tuple into list by adding the given string after every element."
   ]
  },
  {
   "cell_type": "code",
   "execution_count": 31,
   "metadata": {
    "id": "kp_ewiUoG-HB"
   },
   "outputs": [
    {
     "name": "stdout",
     "output_type": "stream",
     "text": [
      "[3, 'yt', 4, 'yt', 5, 'yt', 8, 'yt', 6, 'yt', 9, 'yt', 10, 'yt']\n"
     ]
    }
   ],
   "source": [
    "a=(3,4,5,8,6,9,10)\n",
    "k=input(\"Enter String : \")\n",
    "List= [ele for sub in a for ele in (sub,k)]\n",
    "print(List)"
   ]
  },
  {
   "cell_type": "markdown",
   "metadata": {
    "id": "Kb0K15vDG-HB"
   },
   "source": [
    "# 19) WAP to sort python dictionary by key or value."
   ]
  },
  {
   "cell_type": "code",
   "execution_count": 33,
   "metadata": {
    "id": "mPQhWcuvG-HC"
   },
   "outputs": [
    {
     "name": "stdout",
     "output_type": "stream",
     "text": [
      "[('Div', 'A'), ('name', 'abc'), ('std', '5')]\n"
     ]
    }
   ],
   "source": [
    "dict1 = {\"name\":\"abc\", \"std\":'5', \"Div\":\"A\"}\n",
    "print(sorted(dict1.items()))"
   ]
  },
  {
   "cell_type": "markdown",
   "metadata": {
    "id": "QQgUF-1iG-HD"
   },
   "source": [
    "# 20) WAP to merge two dictionaries given by user."
   ]
  },
  {
   "cell_type": "code",
   "execution_count": 36,
   "metadata": {
    "id": "6suV-zTuG-HD"
   },
   "outputs": [
    {
     "name": "stdout",
     "output_type": "stream",
     "text": [
      "{'a': 34, 'b': 'rushi', 'c': 'abc@gmail.com', 'd': 43}\n"
     ]
    }
   ],
   "source": [
    "dict1={\"a\":34,\"b\":\"rushi\"}\n",
    "dict2={\"c\":\"abc@gmail.com\",\"d\":43}\n",
    "\n",
    "dict1.update(dict2)\n",
    "print(dict1)"
   ]
  },
  {
   "cell_type": "markdown",
   "metadata": {
    "id": "QQgUF-1iG-HD"
   },
   "source": [
    "# 21) WAP to merge two sets given by user."
   ]
  },
  {
   "cell_type": "code",
   "execution_count": 37,
   "metadata": {
    "id": "6suV-zTuG-HD"
   },
   "outputs": [
    {
     "data": {
      "text/plain": [
       "{1, 2, 3, 4, 5, 6, 7}"
      ]
     },
     "execution_count": 37,
     "metadata": {},
     "output_type": "execute_result"
    }
   ],
   "source": [
    "set1 = {1,2,3,4}\n",
    "set2 = {3,4,5,6,7}\n",
    "\n",
    "set1.union(set2)"
   ]
  },
  {
   "cell_type": "markdown",
   "metadata": {
    "id": "QQgUF-1iG-HD"
   },
   "source": [
    "# 22) WAP to find intersection of two sets given by user. "
   ]
  },
  {
   "cell_type": "code",
   "execution_count": 38,
   "metadata": {
    "id": "6suV-zTuG-HD"
   },
   "outputs": [
    {
     "data": {
      "text/plain": [
       "{3, 4}"
      ]
     },
     "execution_count": 38,
     "metadata": {},
     "output_type": "execute_result"
    }
   ],
   "source": [
    "set1 = {1,2,3,4}\n",
    "set2 = {3,4,5,6,7}\n",
    "\n",
    "set1.intersection(set2)"
   ]
  }
 ],
 "metadata": {
  "colab": {
   "name": "Python (Lab - 03) (List) - Payal Parmar.ipynb",
   "provenance": []
  },
  "kernelspec": {
   "display_name": "Python 3.9.7 64-bit",
   "language": "python",
   "name": "python3"
  },
  "language_info": {
   "codemirror_mode": {
    "name": "ipython",
    "version": 3
   },
   "file_extension": ".py",
   "mimetype": "text/x-python",
   "name": "python",
   "nbconvert_exporter": "python",
   "pygments_lexer": "ipython3",
   "version": "3.9.7"
  },
  "vscode": {
   "interpreter": {
    "hash": "244588f31c2a3ad07c22725603babad300eb2184cbcfe75a54eeec84a711f05a"
   }
  }
 },
 "nbformat": 4,
 "nbformat_minor": 1
}
