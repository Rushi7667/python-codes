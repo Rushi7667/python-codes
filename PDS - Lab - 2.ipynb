{
 "cells": [
  {
   "cell_type": "markdown",
   "metadata": {},
   "source": [
    "\n",
    "___\n",
    "\n",
    "<a href='https://www.darshan.ac.in/'> <img src='https://gtu.darshan.ac.in/Upload/Logo/DIET_Logo.svg' /></a>\n",
    "___\n",
    "<pre>\n",
    "<center><b>Python for Data Science - 3150713</b></center>\n",
    "<center><b>Lab - 2</b></center>\n",
    "<center><i>Rewrite all the programs of Lab-1 with Function</i></center> \n",
    "<pre>"
   ]
  },
  {
   "cell_type": "markdown",
   "metadata": {},
   "source": [
    "# 01) WAP to add two numbers entered by user"
   ]
  },
  {
   "cell_type": "code",
   "execution_count": 1,
   "metadata": {},
   "outputs": [
    {
     "name": "stdout",
     "output_type": "stream",
     "text": [
      "1 5\n",
      "6\n"
     ]
    }
   ],
   "source": [
    "def add(a,b):\n",
    "    return a+b\n",
    "a,b = map(int, input().split())\n",
    "print(add(a,b))"
   ]
  },
  {
   "cell_type": "markdown",
   "metadata": {},
   "source": [
    "# 02) WAP to calculate simple interest."
   ]
  },
  {
   "cell_type": "code",
   "execution_count": 2,
   "metadata": {},
   "outputs": [
    {
     "name": "stdout",
     "output_type": "stream",
     "text": [
      "100 1 12\n",
      "12.0\n"
     ]
    }
   ],
   "source": [
    "def simple_interest(a,b,c):\n",
    "    value = (a*b*c)/100\n",
    "    return value\n",
    "p,r,n = map(int, input().split())\n",
    "\n",
    "print(simple_interest(p,r,n))"
   ]
  },
  {
   "cell_type": "markdown",
   "metadata": {},
   "source": [
    "# 03) WAP to calculate area of circle."
   ]
  },
  {
   "cell_type": "code",
   "execution_count": 2,
   "metadata": {},
   "outputs": [
    {
     "name": "stdout",
     "output_type": "stream",
     "text": [
      "Enter the radius of circle : 5\n",
      "area of circle is :  78.5\n"
     ]
    }
   ],
   "source": [
    "def circle_area(r):\n",
    "    return 3.14*r*r\n",
    "\n",
    "radius = float(input(\"Enter the radius of circle : \"))\n",
    "x = circle_area(radius)\n",
    "\n",
    "print(\"area of circle is : \", x)"
   ]
  },
  {
   "cell_type": "markdown",
   "metadata": {},
   "source": [
    "# 04) WAP to print Multiplication table of given number without using loop."
   ]
  },
  {
   "cell_type": "code",
   "execution_count": 4,
   "metadata": {},
   "outputs": [
    {
     "name": "stdout",
     "output_type": "stream",
     "text": [
      "Enter num : 5\n",
      "5 * 1 = 5\n",
      "5 * 2 = 10\n",
      "5 * 3 = 15\n",
      "5 * 4 = 20\n",
      "5 * 5 = 25\n",
      "5 * 6 = 30\n",
      "5 * 7 = 35\n",
      "5 * 8 = 40\n",
      "5 * 9 = 45\n",
      "5 * 10 = 50\n"
     ]
    }
   ],
   "source": [
    "def table(x):\n",
    "    print(x, \"*\", 1, \"=\", x*1)\n",
    "    print(x, \"*\", 2, \"=\", x*2)\n",
    "    print(x, \"*\", 3, \"=\", x*3)\n",
    "    print(x, \"*\", 4, \"=\", x*4)\n",
    "    print(x, \"*\", 5, \"=\", x*5)\n",
    "    print(x, \"*\", 6, \"=\", x*6)\n",
    "    print(x, \"*\", 7, \"=\", x*7)\n",
    "    print(x, \"*\", 8, \"=\", x*8)\n",
    "    print(x, \"*\", 9, \"=\", x*9)\n",
    "    print(x, \"*\", 10, \"=\", x*10)\n",
    "a = int(input(\"Enter num : \"))\n",
    "table(a)"
   ]
  },
  {
   "cell_type": "markdown",
   "metadata": {},
   "source": [
    "# 05) WAP to check whether the given number is positive or negative."
   ]
  },
  {
   "cell_type": "code",
   "execution_count": 7,
   "metadata": {},
   "outputs": [
    {
     "name": "stdout",
     "output_type": "stream",
     "text": [
      "Enter the num : -3\n",
      "Negative\n"
     ]
    }
   ],
   "source": [
    "a = int(input(\"Enter the num : \"))\n",
    "def pos_or_neg(x):\n",
    "    if x>0:\n",
    "        print(\"Positive\")\n",
    "    else:\n",
    "        print(\"Negative\")\n",
    "pos_or_neg(a)"
   ]
  },
  {
   "cell_type": "markdown",
   "metadata": {},
   "source": [
    "# 06) WAP to find out largest number from given three numbers."
   ]
  },
  {
   "cell_type": "code",
   "execution_count": 8,
   "metadata": {},
   "outputs": [
    {
     "name": "stdout",
     "output_type": "stream",
     "text": [
      "large = 9\n"
     ]
    }
   ],
   "source": [
    "a,b,c = map(int, input().split())\n",
    "def large(a,b,c):\n",
    "    if a>b and a>c:\n",
    "        print(\"large =\", a)\n",
    "    if b>a and b>c:\n",
    "        print(\"large =\", b)\n",
    "    if c>a and c>b:\n",
    "        print(\"large =\", c)\n",
    "large(a,b,c)"
   ]
  },
  {
   "cell_type": "markdown",
   "metadata": {},
   "source": [
    "# 07) WAP to implement simple calculator which performs (add,sub,mul,div) of two numbers based on user input."
   ]
  },
  {
   "cell_type": "code",
   "execution_count": 2,
   "metadata": {},
   "outputs": [
    {
     "name": "stdout",
     "output_type": "stream",
     "text": [
      "7\n"
     ]
    }
   ],
   "source": [
    "n1,n2 = map(int, input().split())\n",
    "sign = str(input(\"Enter the sign : \"))\n",
    "def cal(sign,a,b):\n",
    "    if sign=='+':\n",
    "        ans = n1+n2\n",
    "        print(ans)\n",
    "    if sign=='-':\n",
    "        ans = n1-n2\n",
    "        print(ans)\n",
    "    if sign=='*':\n",
    "        ans = n1*n2\n",
    "        print(ans)\n",
    "    if sign=='/':\n",
    "        ans = n1/n2\n",
    "        print(ans)\n",
    "cal(sign,n1,n2)"
   ]
  },
  {
   "cell_type": "markdown",
   "metadata": {},
   "source": [
    "# 08) WAP to print 1 to n"
   ]
  },
  {
   "cell_type": "code",
   "execution_count": 3,
   "metadata": {},
   "outputs": [
    {
     "name": "stdout",
     "output_type": "stream",
     "text": [
      "0\n",
      "1\n",
      "2\n",
      "3\n",
      "4\n"
     ]
    }
   ],
   "source": [
    "def prt(n):\n",
    "    for i in range(n):\n",
    "        print(i)\n",
    "a = int(input(\"Enter the number : \"))\n",
    "prt(a)"
   ]
  },
  {
   "cell_type": "markdown",
   "metadata": {},
   "source": [
    "# 09) WAP to print odd numbers between 1 to n"
   ]
  },
  {
   "cell_type": "code",
   "execution_count": 4,
   "metadata": {},
   "outputs": [
    {
     "name": "stdout",
     "output_type": "stream",
     "text": [
      "1\n",
      "3\n"
     ]
    }
   ],
   "source": [
    "def prt(n):\n",
    "    for i in range(1,n):\n",
    "        if i%2!=0:\n",
    "            print(i)\n",
    "a = int(input(\"Enter the number : \"))\n",
    "prt(a)"
   ]
  },
  {
   "cell_type": "markdown",
   "metadata": {},
   "source": [
    "# 10) WAP to print sum of series 1–2+3–4+5–6+7...n"
   ]
  },
  {
   "cell_type": "code",
   "execution_count": 8,
   "metadata": {},
   "outputs": [
    {
     "name": "stdout",
     "output_type": "stream",
     "text": [
      "+1-2+3-4+5=3\n"
     ]
    }
   ],
   "source": [
    "def sum(n):\n",
    "    sum=0\n",
    "    for i in range(1,n+1):\n",
    "        if i%2!=0:\n",
    "            print(f\"+{i}\", end=\"\")\n",
    "            sum+=i\n",
    "        if i%2==0:\n",
    "            print(f\"-{i}\", end=\"\")\n",
    "            sum-=i\n",
    "    print(f\"={sum}\")\n",
    "a = int(input(\"Enter the number : \"))\n",
    "sum(a)        "
   ]
  },
  {
   "cell_type": "markdown",
   "metadata": {},
   "source": [
    "# 11) WAP to print multiplication table of given number."
   ]
  },
  {
   "cell_type": "code",
   "execution_count": 1,
   "metadata": {},
   "outputs": [
    {
     "name": "stdout",
     "output_type": "stream",
     "text": [
      "5 * 1 =  5\n",
      "5 * 2 =  10\n",
      "5 * 3 =  15\n",
      "5 * 4 =  20\n",
      "5 * 5 =  25\n",
      "5 * 6 =  30\n",
      "5 * 7 =  35\n",
      "5 * 8 =  40\n",
      "5 * 9 =  45\n",
      "5 * 10 =  50\n"
     ]
    }
   ],
   "source": [
    "def mul(x):\n",
    "    for i in range(1,11):\n",
    "        print(f\"{x} * {i} = \", x*i)\n",
    "        i+=1\n",
    "n = int(input(\"Enter the number : \"))\n",
    "mul(n)"
   ]
  },
  {
   "cell_type": "markdown",
   "metadata": {},
   "source": [
    "# 12) WAP to find factorial of the given number."
   ]
  },
  {
   "cell_type": "code",
   "execution_count": 4,
   "metadata": {},
   "outputs": [
    {
     "data": {
      "text/plain": [
       "120"
      ]
     },
     "execution_count": 4,
     "metadata": {},
     "output_type": "execute_result"
    }
   ],
   "source": [
    "def fact(i):\n",
    "    fact = 1\n",
    "    while(i>0):\n",
    "        fact = fact*i\n",
    "        i-=1\n",
    "    return fact\n",
    "x = int(input(\"Enter the number : \"))\n",
    "fact(x)"
   ]
  },
  {
   "cell_type": "markdown",
   "metadata": {},
   "source": [
    "# 13) WAP to find factors of the given number."
   ]
  },
  {
   "cell_type": "code",
   "execution_count": 10,
   "metadata": {},
   "outputs": [
    {
     "name": "stdout",
     "output_type": "stream",
     "text": [
      "[1, 2, 3, 5, 6, 10, 15, 25, 30, 50, 75, 150]\n"
     ]
    }
   ],
   "source": [
    "def factor(x):\n",
    "    a = []\n",
    "    for i in range(1,x+1):\n",
    "        if x%i==0:\n",
    "            a.append(i)\n",
    "    print(a)\n",
    "\n",
    "n = int(input(\"Enter the number : \"))\n",
    "factor(n)"
   ]
  },
  {
   "cell_type": "markdown",
   "metadata": {},
   "source": [
    "# 14) WAP to find whether the given number is prime or not."
   ]
  },
  {
   "cell_type": "code",
   "execution_count": 5,
   "metadata": {},
   "outputs": [
    {
     "name": "stdout",
     "output_type": "stream",
     "text": [
      "29\n",
      "number is prime.\n"
     ]
    }
   ],
   "source": [
    "def prime(x):\n",
    "    flag=0\n",
    "    for i in range(2,x):\n",
    "        if x%i==0:\n",
    "            flag=1\n",
    "            break\n",
    "    \n",
    "    if flag==0:\n",
    "        print(\"number is prime.\")\n",
    "    else:\n",
    "        print(\"number is not prime.\")\n",
    "\n",
    "n = int(input(\"Enter the number : \"))\n",
    "print(n)\n",
    "prime(n)"
   ]
  },
  {
   "cell_type": "markdown",
   "metadata": {},
   "source": [
    "# 15) WAP to print sum of digits of given number."
   ]
  },
  {
   "cell_type": "code",
   "execution_count": 5,
   "metadata": {},
   "outputs": [
    {
     "name": "stdout",
     "output_type": "stream",
     "text": [
      "7\n"
     ]
    }
   ],
   "source": [
    "num = input(\"Enter Number: \")\n",
    "def answer(num):\n",
    "    sum = 0\n",
    "    for i in num:\n",
    "        sum = sum + int(i)\n",
    "    return sum\n",
    "\n",
    "ans = answer(num)\n",
    "print(ans)\n",
    "# answer(17)"
   ]
  },
  {
   "cell_type": "markdown",
   "metadata": {},
   "source": [
    "# 16) WAP to find out prime numbers between given two numbers."
   ]
  },
  {
   "cell_type": "code",
   "execution_count": 20,
   "metadata": {},
   "outputs": [
    {
     "name": "stdout",
     "output_type": "stream",
     "text": [
      "[4, 6, 10, 12, 16, 18, 22]\n"
     ]
    }
   ],
   "source": [
    "def prime(n1,n2):\n",
    "    a = []\n",
    "\n",
    "    for i in range(n1,n2):\n",
    "        flag=0\n",
    "        for j in range(2,i):\n",
    "            if i%j==0:\n",
    "                flag=1\n",
    "                break\n",
    "        if flag==0:\n",
    "            a.append(j)\n",
    "    print(a)\n",
    "\n",
    "# n1 = int(input(\"Enter the number : \"))\n",
    "# n2 = int(input(\"Enter the number : \"))\n",
    "prime(4,29)"
   ]
  },
  {
   "cell_type": "markdown",
   "metadata": {},
   "source": [
    "# 17) WAP to print Fibonacci series up to number given by user."
   ]
  },
  {
   "cell_type": "code",
   "execution_count": 34,
   "metadata": {},
   "outputs": [
    {
     "name": "stdout",
     "output_type": "stream",
     "text": [
      "Entered number : 12\n",
      "1\n",
      "2\n",
      "3\n",
      "5\n",
      "8\n",
      "13\n",
      "21\n",
      "34\n",
      "55\n",
      "89\n"
     ]
    }
   ],
   "source": [
    "def fib(x):\n",
    "    n1=0\n",
    "    n2=1\n",
    "    n3=n1+n2 \n",
    "    for i in range(x-2):\n",
    "        n3=n1+n2\n",
    "        n1 = n2\n",
    "        n2 = n3\n",
    "        print(n3)\n",
    "\n",
    "x = int(input(\"Enter the number : \"))\n",
    "print(f\"Entered number : {x}\")\n",
    "fib(x)"
   ]
  },
  {
   "cell_type": "markdown",
   "metadata": {},
   "source": [
    "# 18) WAP to Find largest prime factor of given number."
   ]
  },
  {
   "cell_type": "code",
   "execution_count": 22,
   "metadata": {},
   "outputs": [
    {
     "name": "stdout",
     "output_type": "stream",
     "text": [
      "170\n",
      "The Largest Prime Factor of given number is  = 17\n"
     ]
    }
   ],
   "source": [
    "number = int(input(\"Enter the number\"))\n",
    "print(number)\n",
    "def isPrime(a):\n",
    "    if a<=1:\n",
    "        return False\n",
    "    for i in range(2,a):\n",
    "        if a%i==0:\n",
    "            return False\n",
    "    return True\n",
    "\n",
    "\n",
    "Prime_F=[]\n",
    "Prime_F.append(1)\n",
    "\n",
    "for i in range(2, number):\n",
    "    # if number is a factor\n",
    "    if number % i == 0:\n",
    "        # if factor is also a prime\n",
    "        if isPrime(i)==True:\n",
    "            # add number to the list\n",
    "           Prime_F.append(i)\n",
    "\n",
    "print(\"The Largest Prime Factor of given number is  =\",max(Prime_F))"
   ]
  },
  {
   "cell_type": "markdown",
   "metadata": {},
   "source": [
    "# 19) WAP to print sum for cube of first n natural numbers."
   ]
  },
  {
   "cell_type": "code",
   "execution_count": 37,
   "metadata": {},
   "outputs": [
    {
     "name": "stdout",
     "output_type": "stream",
     "text": [
      "5\n",
      "+1^3+2^3+3^3+4^3+5^3\n",
      "sum =  225\n"
     ]
    }
   ],
   "source": [
    "a = int(input(\"Enter the number : \"))\n",
    "print(a)\n",
    "sum=0\n",
    "for i in range(1,a+1):\n",
    "    sum = sum + (i*i*i)\n",
    "    print(f\"+{i}^3\", end='')\n",
    "print(\"\\nsum = \", sum)"
   ]
  },
  {
   "cell_type": "markdown",
   "metadata": {},
   "source": [
    "# 20) WAP to converts the given decimal number to its binary equivalent.\n",
    "\n"
   ]
  },
  {
   "cell_type": "code",
   "execution_count": 39,
   "metadata": {},
   "outputs": [
    {
     "name": "stdout",
     "output_type": "stream",
     "text": [
      "10101111"
     ]
    }
   ],
   "source": [
    "def decToBinary(n):\n",
    "    binaryNum = [0] * n\n",
    "    i = 0\n",
    "\n",
    "    while (n > 0):\n",
    "        binaryNum[i] = n % 2\n",
    "        n = int(n / 2)\n",
    "        i += 1\n",
    " \n",
    "    # printing binary array\n",
    "    # in reverse order\n",
    "    for j in range(i - 1, -1, -1):\n",
    "        print(binaryNum[j], end = \"\")\n",
    "\n",
    "n = 175\n",
    "decToBinary(n)"
   ]
  },
  {
   "cell_type": "markdown",
   "metadata": {},
   "source": [
    "# 21) WAP to print following pattern\n",
    "\n",
    "<pre>\n",
    "*\n",
    "* *\n",
    "* * *\n",
    "* * * *\n",
    "</pre>\n"
   ]
  },
  {
   "cell_type": "code",
   "execution_count": 62,
   "metadata": {},
   "outputs": [
    {
     "name": "stdout",
     "output_type": "stream",
     "text": [
      "\n",
      "\n",
      "* \n",
      "\n",
      "* * \n",
      "\n",
      "* * * \n",
      "\n",
      "* * * * \n",
      "\n"
     ]
    }
   ],
   "source": [
    "def pat(n):\n",
    "    for i in range(n):\n",
    "        for i in range(i):\n",
    "            print(\"*\", end=' ')\n",
    "        print('\\n')\n",
    "pat(5)"
   ]
  },
  {
   "cell_type": "markdown",
   "metadata": {},
   "source": [
    "# 22) WAP to print following pattern\n",
    "\n",
    "<pre>$ $ $ $\n",
    "$ $ $\n",
    "$ $\n",
    "$</pre>\n"
   ]
  },
  {
   "cell_type": "code",
   "execution_count": 60,
   "metadata": {},
   "outputs": [
    {
     "name": "stdout",
     "output_type": "stream",
     "text": [
      "$$$$$\n",
      "\n",
      "$$$$\n",
      "\n",
      "$$$\n",
      "\n",
      "$$\n",
      "\n",
      "$\n",
      "\n"
     ]
    }
   ],
   "source": [
    "def pat(n):\n",
    "    for i in range(n):\n",
    "        for j in range(i,n):\n",
    "            print(\"$\", end='')\n",
    "        print(\"\\n\")\n",
    "pat(5)"
   ]
  },
  {
   "cell_type": "markdown",
   "metadata": {},
   "source": [
    "# 23) WAP to print following pattern\n",
    "\n",
    "<pre>\n",
    "# # # # #\n",
    "  # # #\n",
    "    #\n",
    "  # # #\n",
    "# # # # #\n",
    "</pre>\n"
   ]
  },
  {
   "cell_type": "code",
   "execution_count": 59,
   "metadata": {},
   "outputs": [
    {
     "name": "stdout",
     "output_type": "stream",
     "text": [
      "##### \n",
      " ###  \n",
      "  #   \n",
      " ###  \n",
      "##### \n"
     ]
    }
   ],
   "source": [
    "n = int(input(\"Enter the number : \"))\n",
    "def pat(n):\n",
    "    for i in range(1,n+1):\n",
    "        for j in range(1,n+1):\n",
    "            if(i<=int((n+1)/2)):\n",
    "                if(j>=i and j<=(n+1)-i):\n",
    "                    print(\"#\", end='')\n",
    "                else:\n",
    "                    print(\" \", end='')\n",
    "            else:\n",
    "                if(j>=(n+1)-i and j<=i):\n",
    "                    print(\"#\", end='')\n",
    "                else:\n",
    "                    print(\" \", end='')\n",
    "        print(\" \")\n",
    "pat(n)"
   ]
  },
  {
   "cell_type": "markdown",
   "metadata": {},
   "source": [
    "# 24) WAP to print following pattern\n",
    "\n",
    "<pre>\n",
    "1\n",
    "2 3\n",
    "4 5 6\n",
    "7 8 9 10\n",
    "</pre>\n"
   ]
  },
  {
   "cell_type": "code",
   "execution_count": 64,
   "metadata": {},
   "outputs": [
    {
     "name": "stdout",
     "output_type": "stream",
     "text": [
      "\n",
      "\n",
      "\n",
      "\n",
      "1 \n",
      "\n",
      "2 3 \n",
      "\n",
      "4 5 6 \n",
      "\n",
      "7 8 9 10 \n",
      "\n"
     ]
    }
   ],
   "source": [
    "def pat(n):\n",
    "    a=1\n",
    "    for i in range(0,6):\n",
    "        for j in range(1,i):\n",
    "            print(a, end=' ')\n",
    "            a+=1\n",
    "        print(\"\\n\")\n",
    "pat(n)"
   ]
  }
 ],
 "metadata": {
  "kernelspec": {
   "display_name": "Python 3.9.7 64-bit",
   "language": "python",
   "name": "python3"
  },
  "language_info": {
   "codemirror_mode": {
    "name": "ipython",
    "version": 3
   },
   "file_extension": ".py",
   "mimetype": "text/x-python",
   "name": "python",
   "nbconvert_exporter": "python",
   "pygments_lexer": "ipython3",
   "version": "3.9.7"
  },
  "vscode": {
   "interpreter": {
    "hash": "244588f31c2a3ad07c22725603babad300eb2184cbcfe75a54eeec84a711f05a"
   }
  }
 },
 "nbformat": 4,
 "nbformat_minor": 4
}
