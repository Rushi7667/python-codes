{
 "cells": [
  {
   "cell_type": "markdown",
   "metadata": {
    "id": "mzUfu_4vSCd9"
   },
   "source": [
    "\n",
    "___\n",
    "\n",
    "<a href='https://www.darshan.ac.in/'> <img src='https://gtu.darshan.ac.in/Upload/Logo/DIET_Logo.svg' /></a>\n",
    "___\n",
    "<pre>\n",
    "<center><b>Python for Data Science - 3150713</b></center>\n",
    "<center><b>Lab - 3</b></center>    \n",
    "<pre>"
   ]
  },
  {
   "cell_type": "markdown",
   "metadata": {
    "id": "MD_xAArnSCeA"
   },
   "source": [
    "# 01) WAP to check given string is palindrome or not."
   ]
  },
  {
   "cell_type": "code",
   "execution_count": 2,
   "metadata": {
    "colab": {
     "base_uri": "https://localhost:8080/",
     "height": 51
    },
    "id": "Yt6w1k8tSCeC",
    "outputId": "fccefea5-25e2-46e8-a991-78817b610614"
   },
   "outputs": [
    {
     "name": "stdout",
     "output_type": "stream",
     "text": [
      "Enter the number : 10\n",
      "number is not palinedrome.\n"
     ]
    }
   ],
   "source": [
    "n = int(input(\"Enter the number : \"))\n",
    "flag = 0\n",
    "\n",
    "for i in range(2,n):\n",
    "    if n%i==0:\n",
    "        flag+=1\n",
    "\n",
    "if flag==0:\n",
    "    print(\"number is pelindrome.\")\n",
    "else:\n",
    "    print(\"number is not palinedrome.\")"
   ]
  },
  {
   "cell_type": "markdown",
   "metadata": {
    "id": "vrUVzoePSCeM"
   },
   "source": [
    "# 02) WAP to reverse the word in given string."
   ]
  },
  {
   "cell_type": "code",
   "execution_count": 17,
   "metadata": {
    "colab": {
     "base_uri": "https://localhost:8080/",
     "height": 51
    },
    "id": "slaAj57ZSCeO",
    "outputId": "7ab7a8a6-bdee-4b4d-e87d-19c765316c74"
   },
   "outputs": [
    {
     "name": "stdout",
     "output_type": "stream",
     "text": [
      "reverse:  good is Python\n",
      "reverse:  tonight Study from Hello\n"
     ]
    }
   ],
   "source": [
    "def rev_words(string):  \n",
    "    words = string.split(' ') \n",
    "    rev = ' '.join(reversed(words)) \n",
    "    return rev\n",
    " \n",
    "s= \"Python is good\"\n",
    "print (\"reverse: \",rev_words(s))\n",
    "\n",
    "s2= \"Hello from Study tonight\"\n",
    "print (\"reverse: \",rev_words(s2))"
   ]
  },
  {
   "cell_type": "markdown",
   "metadata": {
    "id": "Z9HfDENfSCeW"
   },
   "source": [
    "# 03) WAP to remove ith character from given string."
   ]
  },
  {
   "cell_type": "code",
   "execution_count": 3,
   "metadata": {
    "colab": {
     "base_uri": "https://localhost:8080/",
     "height": 68
    },
    "id": "r0eLDMfPSCeY",
    "outputId": "e94c3a55-c9f2-4a8b-f02d-0244113d3f7d"
   },
   "outputs": [
    {
     "name": "stdout",
     "output_type": "stream",
     "text": [
      "Darsan University\n"
     ]
    }
   ],
   "source": [
    "def remove_char(s, i):\n",
    "    a = s[ : i]\n",
    "    b = s[i + 1: ]\n",
    "\n",
    "    return a+b\n",
    "\n",
    "string = \"Darshan University\"\n",
    "# Remove ith index element\n",
    "i = 5\n",
    "print(remove_char(string,i-1))"
   ]
  },
  {
   "cell_type": "markdown",
   "metadata": {
    "id": "-2b6ZObZSCeg"
   },
   "source": [
    "# 04) WAP to find length of String without using len function."
   ]
  },
  {
   "cell_type": "code",
   "execution_count": 8,
   "metadata": {
    "colab": {
     "base_uri": "https://localhost:8080/",
     "height": 68
    },
    "id": "VrDwVQCSSCeh",
    "outputId": "0de7579e-c89b-4602-af28-e202391f7411"
   },
   "outputs": [
    {
     "name": "stdout",
     "output_type": "stream",
     "text": [
      "Enter the string : darshan university\n",
      "18\n"
     ]
    }
   ],
   "source": [
    "# string = 'Hello'\n",
    "\n",
    "string = str(input(\"Enter the string : \"))\n",
    "\n",
    "count = 0\n",
    "\n",
    "for i in string:\n",
    " \n",
    "    count+=1\n",
    "print(count)"
   ]
  },
  {
   "cell_type": "markdown",
   "metadata": {
    "id": "NTlJQIiXSCep"
   },
   "source": [
    "# 05) WAP to print even length word in string"
   ]
  },
  {
   "cell_type": "code",
   "execution_count": 20,
   "metadata": {
    "colab": {
     "base_uri": "https://localhost:8080/",
     "height": 68
    },
    "id": "R9jyfF_xSCer",
    "outputId": "b28c6203-d29b-452a-c25a-1afce5924381"
   },
   "outputs": [
    {
     "name": "stdout",
     "output_type": "stream",
     "text": [
      "Enter the string : rushi\n",
      "['rushi']\n"
     ]
    }
   ],
   "source": [
    "string = str(input(\"Enter the string : \"))\n",
    "\n",
    "s = string.split(' ')\n",
    "print(s)\n",
    "\n",
    "for i in s:\n",
    "    if len(i)%2==0:\n",
    "        print(i)"
   ]
  },
  {
   "cell_type": "markdown",
   "metadata": {
    "id": "Z27bj9VNSCe3"
   },
   "source": [
    "# 06) WAP to count numbers of vowels in given string."
   ]
  },
  {
   "cell_type": "code",
   "execution_count": 4,
   "metadata": {
    "colab": {
     "base_uri": "https://localhost:8080/",
     "height": 51
    },
    "id": "C7vvIPR0SCe5",
    "outputId": "01a3a596-0167-47f7-a8d3-36a65a26bf1c"
   },
   "outputs": [
    {
     "name": "stdout",
     "output_type": "stream",
     "text": [
      "Enter the string : papiyo\n",
      "3\n"
     ]
    }
   ],
   "source": [
    "string = str(input(\"Enter the string : \"))\n",
    "\n",
    "def is_vowel(ch):\n",
    "    return ch.upper() in ['A','E','I','O','U']\n",
    "# is_vowel(string)\n",
    "\n",
    "def count_vowels(str):\n",
    "    count = 0\n",
    "    for i in range(len(string)):\n",
    "        if is_vowel(str[i]):\n",
    "            count+=1\n",
    "    return count\n",
    "\n",
    "print(count_vowels(string))"
   ]
  },
  {
   "cell_type": "markdown",
   "metadata": {
    "id": "F17WR4tOSCfE"
   },
   "source": [
    "# 07) WAP which accepts a string as input to print \"Yes\" if the string is \"yes\" or \"YES\" or \"Yes\", otherwise print \"No\"."
   ]
  },
  {
   "cell_type": "code",
   "execution_count": 3,
   "metadata": {
    "colab": {
     "base_uri": "https://localhost:8080/",
     "height": 51
    },
    "id": "9t4piyJUSCfF",
    "outputId": "0d8da18e-29a3-457a-c29c-b8e03fc3586f"
   },
   "outputs": [
    {
     "name": "stdout",
     "output_type": "stream",
     "text": [
      "Enter the String : yes\n",
      "Yes\n"
     ]
    }
   ],
   "source": [
    "string = str(input(\"Enter the String : \"))\n",
    "\n",
    "if (string==\"yes\" or string==\"YES\" or string==\"Yes\"):\n",
    "    print(\"Yes\")\n",
    "else:\n",
    "    print(\"No\")"
   ]
  },
  {
   "cell_type": "markdown",
   "metadata": {
    "id": "4Mep9CIaSCfN"
   },
   "source": [
    "# 08) WAP to check whether string contains any special character or not."
   ]
  },
  {
   "cell_type": "code",
   "execution_count": 19,
   "metadata": {
    "colab": {
     "base_uri": "https://localhost:8080/",
     "height": 51
    },
    "id": "zdXPIZbVSCfO",
    "outputId": "072da85e-5b94-4622-9292-ff398fd6ab08"
   },
   "outputs": [
    {
     "name": "stdout",
     "output_type": "stream",
     "text": [
      "Enter the string : garkbfn8)\n",
      "String contain Special char.\n"
     ]
    }
   ],
   "source": [
    "string = str(input(\"Enter the string : \"))\n",
    "a = False\n",
    "\n",
    "specialchar = \"[~!@#$%^&*)(`}{\\|:;><?/]\"\n",
    "\n",
    "for i in string:\n",
    "    for j in specialchar:\n",
    "        if i==j:\n",
    "            a=True\n",
    "            break\n",
    "\n",
    "if a==True:\n",
    "    print(\"String contain Special char.\")\n",
    "else:\n",
    "    print(\"String does not contain any Special charactor.\")"
   ]
  },
  {
   "cell_type": "markdown",
   "metadata": {
    "id": "guqow8TPSCfV"
   },
   "source": [
    "\n",
    "\n",
    "```\n",
    "# This is formatted as code\n",
    "```\n",
    "\n",
    "# 09) WAP to generate random strings until a given string is generated."
   ]
  },
  {
   "cell_type": "code",
   "execution_count": 17,
   "metadata": {
    "colab": {
     "base_uri": "https://localhost:8080/",
     "height": 1000
    },
    "id": "_Yrsl4DLSCfX",
    "outputId": "3f09060d-1edb-48b4-a8f9-de79c96c500d"
   },
   "outputs": [
    {
     "name": "stdout",
     "output_type": "stream",
     "text": [
      "Enter 2 digit word : rt\n",
      "375\n"
     ]
    }
   ],
   "source": [
    "import random\n",
    "import string\n",
    "\n",
    "word = str(input(\"Enter 2 digit word : \"))\n",
    "a=[]\n",
    "count=2\n",
    "flag=1\n",
    "\n",
    "while flag!=0:\n",
    "    newString = \"\".join(random.choices(string.ascii_lowercase, k=count))\n",
    "    a.append(newString)\n",
    "    for i in range(0,len(a)):\n",
    "        if a[i]==word:\n",
    "            print(i)\n",
    "            flag=0"
   ]
  },
  {
   "cell_type": "markdown",
   "metadata": {
    "id": "qefYXvY4SCfe"
   },
   "source": [
    "# 10) WAP to check given string data in binary formats or not. "
   ]
  },
  {
   "cell_type": "code",
   "execution_count": 22,
   "metadata": {
    "colab": {
     "base_uri": "https://localhost:8080/",
     "height": 51
    },
    "id": "aDicrOWBSCff",
    "outputId": "cb1e58a7-ac7b-4d30-b4a0-7b548736e79b"
   },
   "outputs": [
    {
     "name": "stdout",
     "output_type": "stream",
     "text": [
      "Enter the string : 0\n",
      "binary\n"
     ]
    }
   ],
   "source": [
    "s = input(\"Enter the string : \")\n",
    "a=0\n",
    "for i in s:\n",
    "    if (i!='0' and i!='1'):\n",
    "        a=1\n",
    "        break\n",
    "if a==1:\n",
    "    print(\"not binary\")\n",
    "else:\n",
    "    print(\"binary\")"
   ]
  },
  {
   "cell_type": "markdown",
   "metadata": {
    "id": "Xna_bMSUSCfn"
   },
   "source": [
    "# 11) WAP to find all duplicate characters in string."
   ]
  },
  {
   "cell_type": "code",
   "execution_count": 29,
   "metadata": {
    "colab": {
     "base_uri": "https://localhost:8080/",
     "height": 85
    },
    "id": "JtiOqKTGSCfo",
    "outputId": "8ffc10d2-f9f5-4fb3-a28e-ee39397c5ee4"
   },
   "outputs": [
    {
     "name": "stdout",
     "output_type": "stream",
     "text": [
      "enter = darshan university\n",
      "a\n",
      "r\n",
      "s\n",
      "n\n",
      "i\n"
     ]
    }
   ],
   "source": [
    "string=input(\"enter = \")\n",
    "\n",
    "b = []\n",
    "\n",
    "for i in range(0,len(string)):\n",
    "    count=1\n",
    "    if string[i] in b:\n",
    "        continue\n",
    "    for j in range(i+1,len(string)):\n",
    "        if string[i]==string[j]:\n",
    "            count=count+1\n",
    "\n",
    "    if count > 1:\n",
    "        b.append(string[i])  \n",
    "        print(string[i])"
   ]
  },
  {
   "cell_type": "markdown",
   "metadata": {
    "id": "-LHMKDd1SCfw"
   },
   "source": [
    "# 12) WAP to read an ASCII string and to convert it to a Unicode string encoded by utf-8."
   ]
  },
  {
   "cell_type": "code",
   "execution_count": 40,
   "metadata": {
    "id": "aXvJsiOsSCfy"
   },
   "outputs": [
    {
     "name": "stdout",
     "output_type": "stream",
     "text": [
      "Enter the string : pythön!\n",
      "b'pyth\\xc3\\xb6n!'\n"
     ]
    }
   ],
   "source": [
    "string = str(input(\"Enter the string : \"))\n",
    "\n",
    "string_utf8 = string.encode(encoding='utf-8',errors='strict')\n",
    "\n",
    "print(string_utf8)"
   ]
  },
  {
   "cell_type": "markdown",
   "metadata": {
    "id": "_Zg5TbMPSCf5"
   },
   "source": [
    "# 13) WAP to do String slicing\n",
    "                 a)\tLeft (Or anticlockwise) rotate the given string by d elements (where d <= n).\n",
    "                 b)\tRight (Or clockwise) rotate the given string by d elements (where d <= n).\n"
   ]
  },
  {
   "cell_type": "code",
   "execution_count": 55,
   "metadata": {
    "id": "pxYGUQrsSCf7"
   },
   "outputs": [
    {
     "name": "stdout",
     "output_type": "stream",
     "text": [
      "Enter the string : rushi\n",
      "Enter the side : left\n",
      "Enter the length : 2\n"
     ]
    },
    {
     "ename": "AttributeError",
     "evalue": "'str' object has no attribute 'append'",
     "output_type": "error",
     "traceback": [
      "\u001b[1;31m---------------------------------------------------------------------------\u001b[0m",
      "\u001b[1;31mAttributeError\u001b[0m                            Traceback (most recent call last)",
      "Input \u001b[1;32mIn [55]\u001b[0m, in \u001b[0;36m<cell line: 6>\u001b[1;34m()\u001b[0m\n\u001b[0;32m      7\u001b[0m \u001b[38;5;28;01mif\u001b[39;00m side\u001b[38;5;241m==\u001b[39m\u001b[38;5;124m'\u001b[39m\u001b[38;5;124mleft\u001b[39m\u001b[38;5;124m'\u001b[39m \u001b[38;5;129;01mand\u001b[39;00m d\u001b[38;5;241m<\u001b[39m\u001b[38;5;241m=\u001b[39mn:\n\u001b[0;32m      8\u001b[0m     a \u001b[38;5;241m=\u001b[39m string[\u001b[38;5;241m0\u001b[39m:d]\n\u001b[1;32m----> 9\u001b[0m     b \u001b[38;5;241m=\u001b[39m \u001b[43mstring\u001b[49m\u001b[38;5;241;43m.\u001b[39;49m\u001b[43mappend\u001b[49m(a)\n\u001b[0;32m     10\u001b[0m \u001b[38;5;28;01mif\u001b[39;00m side\u001b[38;5;241m==\u001b[39m\u001b[38;5;124m'\u001b[39m\u001b[38;5;124mright\u001b[39m\u001b[38;5;124m'\u001b[39m \u001b[38;5;129;01mand\u001b[39;00m d\u001b[38;5;241m<\u001b[39m\u001b[38;5;241m=\u001b[39mn:\n\u001b[0;32m     11\u001b[0m     a \u001b[38;5;241m=\u001b[39m string[\u001b[38;5;241m-\u001b[39m\u001b[38;5;241m1\u001b[39m:d]\n",
      "\u001b[1;31mAttributeError\u001b[0m: 'str' object has no attribute 'append'"
     ]
    }
   ],
   "source": [
    "string = str(input(\"Enter the string : \"))\n",
    "n = len(string)\n",
    "# string[0:2]\n",
    "side = str(input(\"Enter the side : \"))\n",
    "d = int(input(\"Enter the length : \"))\n",
    "for i in range(n):\n",
    "    if side=='left' and d<=n:\n",
    "        a = string[0:d]\n",
    "        b = string.append(a)\n",
    "    if side=='right' and d<=n:\n",
    "        a = string[-1:d]\n",
    "b"
   ]
  }
 ],
 "metadata": {
  "colab": {
   "collapsed_sections": [],
   "name": "180540107027_(String) - Jayraj Chavada.ipynb",
   "provenance": []
  },
  "kernelspec": {
   "display_name": "Python 3 (ipykernel)",
   "language": "python",
   "name": "python3"
  },
  "language_info": {
   "codemirror_mode": {
    "name": "ipython",
    "version": 3
   },
   "file_extension": ".py",
   "mimetype": "text/x-python",
   "name": "python",
   "nbconvert_exporter": "python",
   "pygments_lexer": "ipython3",
   "version": "3.10.6"
  }
 },
 "nbformat": 4,
 "nbformat_minor": 1
}
